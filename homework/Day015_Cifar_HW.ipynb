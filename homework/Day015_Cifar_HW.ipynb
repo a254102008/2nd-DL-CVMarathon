{
 "cells": [
  {
   "cell_type": "markdown",
   "metadata": {},
   "source": [
    "## 『本次練習內容』\n",
    "#### 運用這幾天所學觀念搭建一個CNN分類器"
   ]
  },
  {
   "cell_type": "markdown",
   "metadata": {},
   "source": [
    "## 『本次練習目的』\n",
    "  #### 熟悉CNN分類器搭建步驟與原理\n",
    "  #### 學員們可以嘗試不同搭法，如使用不同的Maxpooling層，用GlobalAveragePooling取代Flatten等等"
   ]
  },
  {
   "cell_type": "code",
   "execution_count": 1,
   "metadata": {},
   "outputs": [
    {
     "name": "stderr",
     "output_type": "stream",
     "text": [
      "Using TensorFlow backend.\n"
     ]
    }
   ],
   "source": [
    "from keras.models import Sequential\n",
    "from keras.layers import Convolution2D\n",
    "from keras.layers import MaxPooling2D\n",
    "from keras.layers import Flatten\n",
    "from keras.layers import Dense\n",
    "from keras.layers import Dropout\n",
    "from keras.layers import BatchNormalization\n",
    "from keras.datasets import cifar10\n",
    "import numpy as np\n",
    "import tensorflow as tf\n",
    "from sklearn.preprocessing import OneHotEncoder\n"
   ]
  },
  {
   "cell_type": "code",
   "execution_count": 2,
   "metadata": {},
   "outputs": [
    {
     "name": "stdout",
     "output_type": "stream",
     "text": [
      "(50000, 32, 32, 3)\n"
     ]
    }
   ],
   "source": [
    "(x_train, y_train), (x_test, y_test) = cifar10.load_data()\n",
    "\n",
    "print(x_train.shape) #(50000, 32, 32, 3)\n",
    "\n",
    "## Normalize Data\n",
    "def normalize(X_train,X_test):\n",
    "        mean = np.mean(X_train,axis=(0,1,2,3))\n",
    "        std = np.std(X_train, axis=(0, 1, 2, 3))\n",
    "        X_train = (X_train-mean)/(std+1e-7)\n",
    "        X_test = (X_test-mean)/(std+1e-7) \n",
    "        return X_train, X_test,mean,std\n",
    "    \n",
    "    \n",
    "## Normalize Training and Testset    \n",
    "x_train, x_test,mean_train,std_train = normalize(x_train, x_test) "
   ]
  },
  {
   "cell_type": "code",
   "execution_count": 3,
   "metadata": {},
   "outputs": [
    {
     "name": "stderr",
     "output_type": "stream",
     "text": [
      "C:\\Users\\a2541\\Anaconda3\\lib\\site-packages\\sklearn\\preprocessing\\_encoders.py:415: FutureWarning: The handling of integer data will change in version 0.22. Currently, the categories are determined based on the range [0, max(values)], while in the future they will be determined based on the unique values.\n",
      "If you want the future behaviour and silence this warning, you can specify \"categories='auto'\".\n",
      "In case you used a LabelEncoder before this OneHotEncoder to convert the categories to integers, then you can now use the OneHotEncoder directly.\n",
      "  warnings.warn(msg, FutureWarning)\n"
     ]
    }
   ],
   "source": [
    "## OneHot Label 由(None, 1)-(None, 10)\n",
    "## ex. label=2,變成[0,0,1,0,0,0,0,0,0,0]\n",
    "one_hot=OneHotEncoder()\n",
    "y_train=one_hot.fit_transform(y_train).toarray()\n",
    "y_test=one_hot.transform(y_test).toarray()"
   ]
  },
  {
   "cell_type": "code",
   "execution_count": 4,
   "metadata": {},
   "outputs": [
    {
     "name": "stdout",
     "output_type": "stream",
     "text": [
      "WARNING:tensorflow:From C:\\Users\\a2541\\Anaconda3\\lib\\site-packages\\tensorflow\\python\\framework\\op_def_library.py:263: colocate_with (from tensorflow.python.framework.ops) is deprecated and will be removed in a future version.\n",
      "Instructions for updating:\n",
      "Colocations handled automatically by placer.\n",
      "WARNING:tensorflow:From C:\\Users\\a2541\\Anaconda3\\lib\\site-packages\\tensorflow\\python\\ops\\math_ops.py:3066: to_int32 (from tensorflow.python.ops.math_ops) is deprecated and will be removed in a future version.\n",
      "Instructions for updating:\n",
      "Use tf.cast instead.\n"
     ]
    },
    {
     "name": "stderr",
     "output_type": "stream",
     "text": [
      "C:\\Users\\a2541\\Anaconda3\\lib\\site-packages\\ipykernel_launcher.py:27: UserWarning: Update your `Dense` call to the Keras 2 API: `Dense(activation=\"relu\", units=100)`\n",
      "C:\\Users\\a2541\\Anaconda3\\lib\\site-packages\\ipykernel_launcher.py:30: UserWarning: Update your `Dense` call to the Keras 2 API: `Dense(activation=\"softmax\", units=10)`\n"
     ]
    },
    {
     "name": "stdout",
     "output_type": "stream",
     "text": [
      "Train on 50000 samples, validate on 10000 samples\n",
      "Epoch 1/15\n",
      "50000/50000 [==============================] - 18s 354us/step - loss: 1.4056 - acc: 0.5279 - val_loss: 1.0833 - val_acc: 0.6256\n",
      "Epoch 2/15\n",
      "50000/50000 [==============================] - 15s 291us/step - loss: 0.8593 - acc: 0.7053 - val_loss: 0.8989 - val_acc: 0.6933\n",
      "Epoch 3/15\n",
      "50000/50000 [==============================] - 15s 293us/step - loss: 0.6378 - acc: 0.7814 - val_loss: 0.8475 - val_acc: 0.7142\n",
      "Epoch 4/15\n",
      "50000/50000 [==============================] - 15s 292us/step - loss: 0.4646 - acc: 0.8449 - val_loss: 0.8381 - val_acc: 0.7275\n",
      "Epoch 5/15\n",
      "50000/50000 [==============================] - 15s 292us/step - loss: 0.3284 - acc: 0.8930 - val_loss: 0.8700 - val_acc: 0.7292\n",
      "Epoch 6/15\n",
      "50000/50000 [==============================] - 15s 294us/step - loss: 0.1996 - acc: 0.9409 - val_loss: 0.9015 - val_acc: 0.7355\n",
      "Epoch 7/15\n",
      "50000/50000 [==============================] - 15s 294us/step - loss: 0.1170 - acc: 0.9701 - val_loss: 0.9485 - val_acc: 0.7391\n",
      "Epoch 8/15\n",
      "50000/50000 [==============================] - 15s 298us/step - loss: 0.0623 - acc: 0.9880 - val_loss: 0.9879 - val_acc: 0.7438\n",
      "Epoch 9/15\n",
      "50000/50000 [==============================] - 15s 298us/step - loss: 0.0319 - acc: 0.9959 - val_loss: 1.0053 - val_acc: 0.7504\n",
      "Epoch 10/15\n",
      "50000/50000 [==============================] - 14s 289us/step - loss: 0.0122 - acc: 0.9997 - val_loss: 1.0211 - val_acc: 0.7567\n",
      "Epoch 11/15\n",
      "50000/50000 [==============================] - 15s 295us/step - loss: 0.0052 - acc: 0.9999 - val_loss: 1.0482 - val_acc: 0.7579\n",
      "Epoch 12/15\n",
      "50000/50000 [==============================] - 15s 290us/step - loss: 0.0033 - acc: 1.0000 - val_loss: 1.0724 - val_acc: 0.7599\n",
      "Epoch 13/15\n",
      "50000/50000 [==============================] - 15s 290us/step - loss: 0.0024 - acc: 1.0000 - val_loss: 1.0922 - val_acc: 0.7581\n",
      "Epoch 14/15\n",
      "50000/50000 [==============================] - 14s 289us/step - loss: 0.0019 - acc: 1.0000 - val_loss: 1.1074 - val_acc: 0.7600\n",
      "Epoch 15/15\n",
      "50000/50000 [==============================] - 15s 292us/step - loss: 0.0016 - acc: 1.0000 - val_loss: 1.1265 - val_acc: 0.7579\n"
     ]
    },
    {
     "data": {
      "text/plain": [
       "<keras.callbacks.History at 0x1c9827fa470>"
      ]
     },
     "execution_count": 4,
     "metadata": {},
     "output_type": "execute_result"
    }
   ],
   "source": [
    "\n",
    "classifier=Sequential()\n",
    "\n",
    "#卷積組合\n",
    "classifier.add(Convolution2D(32, kernel_size=(3, 3), padding='same',input_shape=(32, 32, 3)))#32,3,3,input_shape=(32,32,3),activation='relu''\n",
    "classifier.add(BatchNormalization())\n",
    "\n",
    "'''自己決定MaxPooling2D放在哪裡'''\n",
    "#classifier.add(MaxPooling2D(pool_size=(2,2)))\n",
    "\n",
    "#卷積組合\n",
    "classifier.add(Convolution2D(64, kernel_size=(3, 3), padding='same'))\n",
    "classifier.add(MaxPooling2D(pool_size=(2,2)))\n",
    "classifier.add(BatchNormalization())\n",
    "\n",
    "classifier.add(Convolution2D(128, kernel_size=(3, 3), padding='same'))\n",
    "classifier.add(MaxPooling2D(pool_size=(2,2)))\n",
    "classifier.add(BatchNormalization())\n",
    "\n",
    "classifier.add(Convolution2D(256, kernel_size=(3, 3), padding='same'))\n",
    "classifier.add(MaxPooling2D(pool_size=(2,2)))\n",
    "classifier.add(BatchNormalization())\n",
    "\n",
    "#flatten\n",
    "classifier.add(Flatten())\n",
    "\n",
    "#FC\n",
    "classifier.add(Dense(output_dim=100, activation='relu')) #output_dim=100,activation=relu\n",
    "\n",
    "#輸出\n",
    "classifier.add(Dense(output_dim=10,activation='softmax'))\n",
    "\n",
    "#超過兩個就要選categorical_crossentrophy\n",
    "classifier.compile(optimizer = 'adam', loss = 'categorical_crossentropy', metrics = ['accuracy'])\n",
    "classifier.fit(x_train,y_train,batch_size=500,epochs=15,validation_data=(x_test,y_test))"
   ]
  },
  {
   "cell_type": "markdown",
   "metadata": {},
   "source": [
    "## 預測新圖片，輸入影像前處理要與訓練時相同\n",
    "#### ((X-mean)/(std+1e-7) ):這裡的mean跟std是訓練集的\n",
    "## 維度如下方示範"
   ]
  },
  {
   "cell_type": "code",
   "execution_count": 5,
   "metadata": {},
   "outputs": [
    {
     "data": {
      "text/plain": [
       "array([[1.07876120e-04, 7.32771639e-08, 2.00796116e-04, 9.99305248e-01,\n",
       "        1.17443895e-04, 2.23026364e-05, 5.70799348e-05, 1.06476975e-04,\n",
       "        8.27317635e-05, 3.07285225e-10]], dtype=float32)"
      ]
     },
     "execution_count": 5,
     "metadata": {},
     "output_type": "execute_result"
    }
   ],
   "source": [
    "input_example=(np.zeros(shape=(1,32,32,3))-mean_train)/(std_train+1e-7) \n",
    "classifier.predict(input_example)"
   ]
  },
  {
   "cell_type": "code",
   "execution_count": 6,
   "metadata": {},
   "outputs": [
    {
     "data": {
      "text/plain": [
       "array([[9.48378511e-05, 8.26557525e-08, 1.79554030e-04, 9.99367893e-01,\n",
       "        1.05728664e-04, 2.67019695e-05, 6.04389534e-05, 9.43414416e-05,\n",
       "        7.04302074e-05, 3.22800120e-10]], dtype=float32)"
      ]
     },
     "execution_count": 6,
     "metadata": {},
     "output_type": "execute_result"
    }
   ],
   "source": [
    "input_test = np.expand_dims(((x_test[0]-mean_train)/(std_train+1e-7)), axis=0)\n",
    "classifier.predict(input_test)"
   ]
  }
 ],
 "metadata": {
  "kernelspec": {
   "display_name": "Python 3",
   "language": "python",
   "name": "python3"
  },
  "language_info": {
   "codemirror_mode": {
    "name": "ipython",
    "version": 3
   },
   "file_extension": ".py",
   "mimetype": "text/x-python",
   "name": "python",
   "nbconvert_exporter": "python",
   "pygments_lexer": "ipython3",
   "version": "3.7.3"
  }
 },
 "nbformat": 4,
 "nbformat_minor": 2
}
